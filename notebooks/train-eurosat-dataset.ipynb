{
 "cells": [
  {
   "cell_type": "code",
   "execution_count": 1,
   "id": "1d2cdd13",
   "metadata": {
    "execution": {
     "iopub.execute_input": "2022-04-18T18:47:43.840183Z",
     "iopub.status.busy": "2022-04-18T18:47:43.838655Z",
     "iopub.status.idle": "2022-04-18T18:48:12.135775Z",
     "shell.execute_reply": "2022-04-18T18:48:12.136235Z",
     "shell.execute_reply.started": "2022-04-18T10:15:15.49657Z"
    },
    "papermill": {
     "duration": 28.325095,
     "end_time": "2022-04-18T18:48:12.136508",
     "exception": false,
     "start_time": "2022-04-18T18:47:43.811413",
     "status": "completed"
    },
    "tags": [],
    "pycharm": {
     "name": "#%%\n"
    }
   },
   "outputs": [
    {
     "name": "stdout",
     "output_type": "stream",
     "text": [
      "Collecting neptune-client\r\n",
      "  Downloading neptune-client-0.16.0.tar.gz (316 kB)\r\n",
      "     |████████████████████████████████| 316 kB 600 kB/s            \r\n",
      "\u001B[?25h  Preparing metadata (setup.py) ... \u001B[?25l-\b \bdone\r\n",
      "\u001B[?25hCollecting bravado\r\n",
      "  Downloading bravado-11.0.3-py2.py3-none-any.whl (38 kB)\r\n",
      "Requirement already satisfied: click>=7.0 in /opt/conda/lib/python3.7/site-packages (from neptune-client) (8.0.3)\r\n",
      "Requirement already satisfied: future>=0.17.1 in /opt/conda/lib/python3.7/site-packages (from neptune-client) (0.18.2)\r\n",
      "Requirement already satisfied: oauthlib>=2.1.0 in /opt/conda/lib/python3.7/site-packages (from neptune-client) (3.1.1)\r\n",
      "Requirement already satisfied: pandas in /opt/conda/lib/python3.7/site-packages (from neptune-client) (1.3.5)\r\n",
      "Requirement already satisfied: Pillow>=1.1.6 in /opt/conda/lib/python3.7/site-packages (from neptune-client) (8.2.0)\r\n",
      "Requirement already satisfied: PyJWT in /opt/conda/lib/python3.7/site-packages (from neptune-client) (2.3.0)\r\n",
      "Requirement already satisfied: requests>=2.20.0 in /opt/conda/lib/python3.7/site-packages (from neptune-client) (2.26.0)\r\n",
      "Requirement already satisfied: requests-oauthlib>=1.0.0 in /opt/conda/lib/python3.7/site-packages (from neptune-client) (1.3.0)\r\n",
      "Requirement already satisfied: six>=1.12.0 in /opt/conda/lib/python3.7/site-packages (from neptune-client) (1.16.0)\r\n",
      "Requirement already satisfied: websocket-client!=1.0.0,>=0.35.0 in /opt/conda/lib/python3.7/site-packages (from neptune-client) (1.2.3)\r\n",
      "Requirement already satisfied: GitPython>=2.0.8 in /opt/conda/lib/python3.7/site-packages (from neptune-client) (3.1.24)\r\n",
      "Requirement already satisfied: boto3>=1.16.0 in /opt/conda/lib/python3.7/site-packages (from neptune-client) (1.21.20)\r\n",
      "Requirement already satisfied: packaging in /opt/conda/lib/python3.7/site-packages (from neptune-client) (21.3)\r\n",
      "Requirement already satisfied: urllib3 in /opt/conda/lib/python3.7/site-packages (from neptune-client) (1.26.7)\r\n",
      "Collecting swagger-spec-validator>=2.7.4\r\n",
      "  Downloading swagger_spec_validator-2.7.4-py2.py3-none-any.whl (27 kB)\r\n",
      "Requirement already satisfied: psutil in /opt/conda/lib/python3.7/site-packages (from neptune-client) (5.9.0)\r\n",
      "Requirement already satisfied: s3transfer<0.6.0,>=0.5.0 in /opt/conda/lib/python3.7/site-packages (from boto3>=1.16.0->neptune-client) (0.5.2)\r\n",
      "Requirement already satisfied: jmespath<1.0.0,>=0.7.1 in /opt/conda/lib/python3.7/site-packages (from boto3>=1.16.0->neptune-client) (0.10.0)\r\n",
      "Requirement already satisfied: botocore<1.25.0,>=1.24.20 in /opt/conda/lib/python3.7/site-packages (from boto3>=1.16.0->neptune-client) (1.24.20)\r\n",
      "Requirement already satisfied: importlib-metadata in /opt/conda/lib/python3.7/site-packages (from click>=7.0->neptune-client) (4.11.3)\r\n",
      "Requirement already satisfied: typing-extensions>=3.7.4.3 in /opt/conda/lib/python3.7/site-packages (from GitPython>=2.0.8->neptune-client) (4.1.1)\r\n",
      "Requirement already satisfied: gitdb<5,>=4.0.1 in /opt/conda/lib/python3.7/site-packages (from GitPython>=2.0.8->neptune-client) (4.0.9)\r\n",
      "Requirement already satisfied: charset-normalizer~=2.0.0 in /opt/conda/lib/python3.7/site-packages (from requests>=2.20.0->neptune-client) (2.0.9)\r\n",
      "Requirement already satisfied: certifi>=2017.4.17 in /opt/conda/lib/python3.7/site-packages (from requests>=2.20.0->neptune-client) (2021.10.8)\r\n",
      "Requirement already satisfied: idna<4,>=2.5 in /opt/conda/lib/python3.7/site-packages (from requests>=2.20.0->neptune-client) (3.1)\r\n",
      "Requirement already satisfied: pyyaml in /opt/conda/lib/python3.7/site-packages (from swagger-spec-validator>=2.7.4->neptune-client) (6.0)\r\n",
      "Requirement already satisfied: jsonschema in /opt/conda/lib/python3.7/site-packages (from swagger-spec-validator>=2.7.4->neptune-client) (4.3.1)\r\n",
      "Collecting bravado-core>=5.16.1\r\n",
      "  Downloading bravado_core-5.17.0-py2.py3-none-any.whl (67 kB)\r\n",
      "     |████████████████████████████████| 67 kB 3.8 MB/s             \r\n",
      "\u001B[?25hCollecting monotonic\r\n",
      "  Downloading monotonic-1.6-py2.py3-none-any.whl (8.2 kB)\r\n",
      "Requirement already satisfied: simplejson in /opt/conda/lib/python3.7/site-packages (from bravado->neptune-client) (3.17.6)\r\n",
      "Requirement already satisfied: python-dateutil in /opt/conda/lib/python3.7/site-packages (from bravado->neptune-client) (2.8.2)\r\n",
      "Requirement already satisfied: msgpack in /opt/conda/lib/python3.7/site-packages (from bravado->neptune-client) (1.0.3)\r\n",
      "Requirement already satisfied: pyparsing!=3.0.5,>=2.0.2 in /opt/conda/lib/python3.7/site-packages (from packaging->neptune-client) (3.0.6)\r\n",
      "Requirement already satisfied: pytz>=2017.3 in /opt/conda/lib/python3.7/site-packages (from pandas->neptune-client) (2021.3)\r\n",
      "Requirement already satisfied: numpy>=1.17.3 in /opt/conda/lib/python3.7/site-packages (from pandas->neptune-client) (1.20.3)\r\n",
      "Collecting jsonref\r\n",
      "  Downloading jsonref-0.2-py3-none-any.whl (9.3 kB)\r\n",
      "Requirement already satisfied: smmap<6,>=3.0.1 in /opt/conda/lib/python3.7/site-packages (from gitdb<5,>=4.0.1->GitPython>=2.0.8->neptune-client) (3.0.5)\r\n",
      "Requirement already satisfied: zipp>=0.5 in /opt/conda/lib/python3.7/site-packages (from importlib-metadata->click>=7.0->neptune-client) (3.6.0)\r\n",
      "Requirement already satisfied: importlib-resources>=1.4.0 in /opt/conda/lib/python3.7/site-packages (from jsonschema->swagger-spec-validator>=2.7.4->neptune-client) (5.4.0)\r\n",
      "Requirement already satisfied: attrs>=17.4.0 in /opt/conda/lib/python3.7/site-packages (from jsonschema->swagger-spec-validator>=2.7.4->neptune-client) (21.2.0)\r\n",
      "Requirement already satisfied: pyrsistent!=0.17.0,!=0.17.1,!=0.17.2,>=0.14.0 in /opt/conda/lib/python3.7/site-packages (from jsonschema->swagger-spec-validator>=2.7.4->neptune-client) (0.18.0)\r\n",
      "Collecting jsonpointer>1.13\r\n",
      "  Downloading jsonpointer-2.3-py2.py3-none-any.whl (7.8 kB)\r\n",
      "Collecting fqdn\r\n",
      "  Downloading fqdn-1.5.1-py3-none-any.whl (9.1 kB)\r\n",
      "Collecting isoduration\r\n",
      "  Downloading isoduration-20.11.0-py3-none-any.whl (11 kB)\r\n",
      "Collecting rfc3987\r\n",
      "  Downloading rfc3987-1.3.8-py2.py3-none-any.whl (13 kB)\r\n",
      "Collecting rfc3339-validator\r\n",
      "  Downloading rfc3339_validator-0.1.4-py2.py3-none-any.whl (3.5 kB)\r\n",
      "Collecting uri-template\r\n",
      "  Downloading uri_template-1.2.0-py3-none-any.whl (10 kB)\r\n",
      "Collecting webcolors>=1.11\r\n",
      "  Downloading webcolors-1.11.1-py3-none-any.whl (9.9 kB)\r\n",
      "Requirement already satisfied: cached-property>=1.3.0 in /opt/conda/lib/python3.7/site-packages (from fqdn->jsonschema->swagger-spec-validator>=2.7.4->neptune-client) (1.5.2)\r\n",
      "Requirement already satisfied: arrow>=0.15.0 in /opt/conda/lib/python3.7/site-packages (from isoduration->jsonschema->swagger-spec-validator>=2.7.4->neptune-client) (1.2.1)\r\n",
      "Building wheels for collected packages: neptune-client\r\n",
      "  Building wheel for neptune-client (setup.py) ... \u001B[?25l-\b \b\\\b \b|\b \b/\b \bdone\r\n",
      "\u001B[?25h  Created wheel for neptune-client: filename=neptune_client-0.16.0-py2.py3-none-any.whl size=565728 sha256=6809522dfda0aefd1d435a3d83190f701a2b7b846d34aa67b15c28ad167c9a1d\r\n",
      "  Stored in directory: /root/.cache/pip/wheels/d3/96/77/26728c98b5324009116ccf98ab63768eecbd3f03bd60404e90\r\n",
      "Successfully built neptune-client\r\n",
      "Installing collected packages: webcolors, uri-template, rfc3987, rfc3339-validator, jsonpointer, isoduration, fqdn, swagger-spec-validator, jsonref, monotonic, bravado-core, bravado, neptune-client\r\n",
      "Successfully installed bravado-11.0.3 bravado-core-5.17.0 fqdn-1.5.1 isoduration-20.11.0 jsonpointer-2.3 jsonref-0.2 monotonic-1.6 neptune-client-0.16.0 rfc3339-validator-0.1.4 rfc3987-1.3.8 swagger-spec-validator-2.7.4 uri-template-1.2.0 webcolors-1.11.1\r\n",
      "\u001B[33mWARNING: Running pip as the 'root' user can result in broken permissions and conflicting behaviour with the system package manager. It is recommended to use a virtual environment instead: https://pip.pypa.io/warnings/venv\u001B[0m\r\n",
      "\u001B[33mWARNING: Running pip as the 'root' user can result in broken permissions and conflicting behaviour with the system package manager. It is recommended to use a virtual environment instead: https://pip.pypa.io/warnings/venv\u001B[0m\r\n"
     ]
    }
   ],
   "source": [
    "!pip install neptune-client\n",
    "!pip install -q efficientnet_pytorch\n",
    "\n",
    "\n",
    "import os\n",
    "import cv2\n",
    "import json\n",
    "import torch\n",
    "import random\n",
    "import numpy as np\n",
    "import pandas as pd\n",
    "from torch import nn\n",
    "from tqdm import tqdm\n",
    "import efficientnet_pytorch\n",
    "import neptune.new as neptune\n",
    "from matplotlib import pyplot as plt\n",
    "from albumentations.pytorch import ToTensorV2\n",
    "from torch.utils.data import Dataset, DataLoader\n",
    "from albumentations import VerticalFlip, Normalize, Compose, Resize, \\\n",
    "                           RandomResizedCrop, Transpose, HorizontalFlip, \\\n",
    "                           Rotate, RandomBrightnessContrast, ShiftScaleRotate"
   ]
  },
  {
   "cell_type": "code",
   "execution_count": 2,
   "id": "d4ddb9d4",
   "metadata": {
    "execution": {
     "iopub.execute_input": "2022-04-18T18:48:12.215741Z",
     "iopub.status.busy": "2022-04-18T18:48:12.214980Z",
     "iopub.status.idle": "2022-04-18T18:48:12.216981Z",
     "shell.execute_reply": "2022-04-18T18:48:12.217383Z",
     "shell.execute_reply.started": "2022-04-18T11:02:47.106772Z"
    },
    "papermill": {
     "duration": 0.043002,
     "end_time": "2022-04-18T18:48:12.217517",
     "exception": false,
     "start_time": "2022-04-18T18:48:12.174515",
     "status": "completed"
    },
    "tags": [],
    "pycharm": {
     "name": "#%%\n"
    }
   },
   "outputs": [],
   "source": [
    "CFG = dict(dr=.2,\n",
    "           seed=11,\n",
    "           lr=5e-5,\n",
    "           n_epochs=20,\n",
    "           auto_break_n=3,\n",
    "           img_size=[256] * 2,\n",
    "           path_save_model='model.torch'\n",
    "          )"
   ]
  },
  {
   "cell_type": "markdown",
   "id": "865dc539",
   "metadata": {
    "papermill": {
     "duration": 0.036738,
     "end_time": "2022-04-18T18:48:12.291280",
     "exception": false,
     "start_time": "2022-04-18T18:48:12.254542",
     "status": "completed"
    },
    "tags": [],
    "pycharm": {
     "name": "#%% md\n"
    }
   },
   "source": [
    "# Neptun"
   ]
  },
  {
   "cell_type": "code",
   "execution_count": 3,
   "id": "6ad0d0a1",
   "metadata": {
    "execution": {
     "iopub.execute_input": "2022-04-18T18:48:12.369999Z",
     "iopub.status.busy": "2022-04-18T18:48:12.369455Z",
     "iopub.status.idle": "2022-04-18T18:48:14.664247Z",
     "shell.execute_reply": "2022-04-18T18:48:14.663396Z"
    },
    "papermill": {
     "duration": 2.335809,
     "end_time": "2022-04-18T18:48:14.664399",
     "exception": false,
     "start_time": "2022-04-18T18:48:12.328590",
     "status": "completed"
    },
    "tags": [],
    "pycharm": {
     "name": "#%%\n"
    }
   },
   "outputs": [
    {
     "name": "stdout",
     "output_type": "stream",
     "text": [
      "https://app.neptune.ai/petr.square/EuroSat-Dataset/e/EUR-4\n",
      "Remember to stop your run once you’ve finished logging your metadata (https://docs.neptune.ai/api-reference/run#.stop). It will be stopped automatically only when the notebook kernel/interactive console is terminated.\n"
     ]
    }
   ],
   "source": [
    "hidden_data = \"######\"\n",
    "\n",
    "run = neptune.init(\n",
    "    project=hidden_data,\n",
    "    api_token=hidden_data,\n",
    ")\n",
    "\n",
    "run[\"parameters\"] = CFG"
   ]
  },
  {
   "cell_type": "markdown",
   "id": "920a96a5",
   "metadata": {
    "papermill": {
     "duration": 0.036793,
     "end_time": "2022-04-18T18:48:14.741962",
     "exception": false,
     "start_time": "2022-04-18T18:48:14.705169",
     "status": "completed"
    },
    "tags": [],
    "pycharm": {
     "name": "#%% md\n"
    }
   },
   "source": [
    "# Path"
   ]
  },
  {
   "cell_type": "code",
   "execution_count": 4,
   "id": "97149799",
   "metadata": {
    "execution": {
     "iopub.execute_input": "2022-04-18T18:48:14.840355Z",
     "iopub.status.busy": "2022-04-18T18:48:14.838693Z",
     "iopub.status.idle": "2022-04-18T18:48:14.842066Z",
     "shell.execute_reply": "2022-04-18T18:48:14.841169Z",
     "shell.execute_reply.started": "2022-04-18T10:16:07.746374Z"
    },
    "papermill": {
     "duration": 0.053187,
     "end_time": "2022-04-18T18:48:14.842246",
     "exception": false,
     "start_time": "2022-04-18T18:48:14.789059",
     "status": "completed"
    },
    "tags": [],
    "pycharm": {
     "name": "#%%\n"
    }
   },
   "outputs": [],
   "source": [
    "base_dir = '../input/eurosat-dataset/EuroSAT'\n",
    "\n",
    "test_path = f'{base_dir}/test.csv'\n",
    "train_path = f'{base_dir}/train.csv'\n",
    "validation_path = f'{base_dir}/validation.csv'\n",
    "\n",
    "decoder_path = f\"{base_dir}/label_map.json\""
   ]
  },
  {
   "cell_type": "markdown",
   "id": "84238734",
   "metadata": {
    "papermill": {
     "duration": 0.038582,
     "end_time": "2022-04-18T18:48:14.923453",
     "exception": false,
     "start_time": "2022-04-18T18:48:14.884871",
     "status": "completed"
    },
    "tags": [],
    "pycharm": {
     "name": "#%% md\n"
    }
   },
   "source": [
    "# Load"
   ]
  },
  {
   "cell_type": "code",
   "execution_count": 5,
   "id": "2f6cd36e",
   "metadata": {
    "execution": {
     "iopub.execute_input": "2022-04-18T18:48:15.002743Z",
     "iopub.status.busy": "2022-04-18T18:48:15.002237Z",
     "iopub.status.idle": "2022-04-18T18:48:15.093118Z",
     "shell.execute_reply": "2022-04-18T18:48:15.092666Z",
     "shell.execute_reply.started": "2022-04-18T10:18:39.645654Z"
    },
    "papermill": {
     "duration": 0.132722,
     "end_time": "2022-04-18T18:48:15.093269",
     "exception": false,
     "start_time": "2022-04-18T18:48:14.960547",
     "status": "completed"
    },
    "tags": [],
    "pycharm": {
     "name": "#%%\n"
    }
   },
   "outputs": [],
   "source": [
    "train = pd.read_csv(train_path, index_col=[0])\n",
    "validation = pd.read_csv(validation_path, index_col=[0])\n",
    "test = pd.read_csv(test_path, index_col=[0])"
   ]
  },
  {
   "cell_type": "code",
   "execution_count": 6,
   "id": "bd2bcf98",
   "metadata": {
    "execution": {
     "iopub.execute_input": "2022-04-18T18:48:15.172365Z",
     "iopub.status.busy": "2022-04-18T18:48:15.171817Z",
     "iopub.status.idle": "2022-04-18T18:48:15.186892Z",
     "shell.execute_reply": "2022-04-18T18:48:15.187331Z",
     "shell.execute_reply.started": "2022-04-18T10:16:19.542055Z"
    },
    "papermill": {
     "duration": 0.056245,
     "end_time": "2022-04-18T18:48:15.187465",
     "exception": false,
     "start_time": "2022-04-18T18:48:15.131220",
     "status": "completed"
    },
    "tags": [],
    "pycharm": {
     "name": "#%%\n"
    }
   },
   "outputs": [
    {
     "data": {
      "text/plain": [
       "{0: 'AnnualCrop',\n",
       " 1: 'Forest',\n",
       " 2: 'HerbaceousVegetation',\n",
       " 3: 'Highway',\n",
       " 4: 'Industrial',\n",
       " 5: 'Pasture',\n",
       " 6: 'PermanentCrop',\n",
       " 7: 'Residential',\n",
       " 8: 'River',\n",
       " 9: 'SeaLake'}"
      ]
     },
     "execution_count": 6,
     "metadata": {},
     "output_type": "execute_result"
    }
   ],
   "source": [
    "with open(decoder_path) as jsonFile:\n",
    "    decoder = json.load(jsonFile)\n",
    "\n",
    "reverse_decoder = {v: k for k, v in decoder.items()}\n",
    "reverse_decoder"
   ]
  },
  {
   "cell_type": "markdown",
   "id": "a0c1c5e8",
   "metadata": {
    "papermill": {
     "duration": 0.0378,
     "end_time": "2022-04-18T18:48:15.262908",
     "exception": false,
     "start_time": "2022-04-18T18:48:15.225108",
     "status": "completed"
    },
    "tags": [],
    "pycharm": {
     "name": "#%% md\n"
    }
   },
   "source": [
    "# Seed"
   ]
  },
  {
   "cell_type": "code",
   "execution_count": 7,
   "id": "c60e3a35",
   "metadata": {
    "execution": {
     "iopub.execute_input": "2022-04-18T18:48:15.344464Z",
     "iopub.status.busy": "2022-04-18T18:48:15.343813Z",
     "iopub.status.idle": "2022-04-18T18:48:15.403713Z",
     "shell.execute_reply": "2022-04-18T18:48:15.403180Z",
     "shell.execute_reply.started": "2022-04-18T10:16:21.307444Z"
    },
    "papermill": {
     "duration": 0.1032,
     "end_time": "2022-04-18T18:48:15.403836",
     "exception": false,
     "start_time": "2022-04-18T18:48:15.300636",
     "status": "completed"
    },
    "tags": [],
    "pycharm": {
     "name": "#%%\n"
    }
   },
   "outputs": [],
   "source": [
    "def seed_everything(seed: int) -> None:\n",
    "    \"\"\"Seed all\n",
    "    Parameters\n",
    "    ----------\n",
    "    seed : int\n",
    "        The seed value\n",
    "    \"\"\"\n",
    "    random.seed(seed)\n",
    "    os.environ[\"PYTHONHASHSEED\"] = str(seed)\n",
    "    np.random.seed(seed)\n",
    "    torch.manual_seed(seed)\n",
    "    torch.cuda.manual_seed(seed)\n",
    "    if torch.cuda.is_available():\n",
    "        torch.backends.cudnn.deterministic = True\n",
    "        torch.backends.cudnn.benchmark = False\n",
    "\n",
    "seed_everything(CFG['seed'])"
   ]
  },
  {
   "cell_type": "markdown",
   "id": "863f01ad",
   "metadata": {
    "papermill": {
     "duration": 0.037627,
     "end_time": "2022-04-18T18:48:15.479540",
     "exception": false,
     "start_time": "2022-04-18T18:48:15.441913",
     "status": "completed"
    },
    "tags": [],
    "pycharm": {
     "name": "#%% md\n"
    }
   },
   "source": [
    "# Data generator"
   ]
  },
  {
   "cell_type": "code",
   "execution_count": 8,
   "id": "7334de9a",
   "metadata": {
    "execution": {
     "iopub.execute_input": "2022-04-18T18:48:15.562087Z",
     "iopub.status.busy": "2022-04-18T18:48:15.561262Z",
     "iopub.status.idle": "2022-04-18T18:48:15.563096Z",
     "shell.execute_reply": "2022-04-18T18:48:15.563568Z",
     "shell.execute_reply.started": "2022-04-18T10:16:22.859449Z"
    },
    "papermill": {
     "duration": 0.046781,
     "end_time": "2022-04-18T18:48:15.563697",
     "exception": false,
     "start_time": "2022-04-18T18:48:15.516916",
     "status": "completed"
    },
    "tags": [],
    "pycharm": {
     "name": "#%%\n"
    }
   },
   "outputs": [],
   "source": [
    "class Data_generator(Dataset):\n",
    "    def __init__(self, path:str, data:pd.DataFrame, transforms):\n",
    "        self.path = path\n",
    "        self.transforms = transforms\n",
    "        \n",
    "        self.target = data.Label\n",
    "        self.image_names = data.Filename\n",
    "    \n",
    "        \n",
    "    def __len__(self):\n",
    "        return len(self.image_names)\n",
    "\n",
    "    def __getitem__(self, index):\n",
    "        x = cv2.imread(os.path.join(self.path, self.image_names[index]))\n",
    "        x = cv2.cvtColor(x, cv2.COLOR_BGR2RGB)\n",
    "\n",
    "        if self.transforms:\n",
    "            x = self.transforms(image=x)['image']\n",
    "        \n",
    "        y = torch.tensor(self.target[index], dtype=torch.long)\n",
    "            \n",
    "        return {'X': x, 'y': y}"
   ]
  },
  {
   "cell_type": "markdown",
   "id": "475bf5d3",
   "metadata": {
    "papermill": {
     "duration": 0.037127,
     "end_time": "2022-04-18T18:48:15.638053",
     "exception": false,
     "start_time": "2022-04-18T18:48:15.600926",
     "status": "completed"
    },
    "tags": [],
    "pycharm": {
     "name": "#%% md\n"
    }
   },
   "source": [
    "# Transformation"
   ]
  },
  {
   "cell_type": "code",
   "execution_count": 9,
   "id": "3001d941",
   "metadata": {
    "execution": {
     "iopub.execute_input": "2022-04-18T18:48:15.720502Z",
     "iopub.status.busy": "2022-04-18T18:48:15.719754Z",
     "iopub.status.idle": "2022-04-18T18:48:15.721713Z",
     "shell.execute_reply": "2022-04-18T18:48:15.722104Z",
     "shell.execute_reply.started": "2022-04-18T10:16:24.586214Z"
    },
    "papermill": {
     "duration": 0.046982,
     "end_time": "2022-04-18T18:48:15.722244",
     "exception": false,
     "start_time": "2022-04-18T18:48:15.675262",
     "status": "completed"
    },
    "tags": [],
    "pycharm": {
     "name": "#%%\n"
    }
   },
   "outputs": [],
   "source": [
    "transforms_train = Compose([\n",
    "            RandomResizedCrop(*CFG['img_size']),\n",
    "            Normalize(\n",
    "                mean=[0.485, 0.456, 0.406],\n",
    "                std=[0.229, 0.224, 0.225],\n",
    "            ),\n",
    "            HorizontalFlip(p=0.5),\n",
    "            VerticalFlip(p=0.5),\n",
    "            Rotate(limit=180, p=0.7),\n",
    "            ShiftScaleRotate(\n",
    "                shift_limit = 0.1, scale_limit=0.1, rotate_limit=45, p=0.5\n",
    "            ),\n",
    "            RandomBrightnessContrast(\n",
    "                brightness_limit=(-0.1, 0.1),\n",
    "                contrast_limit=(-0.1, 0.1), p=0.5\n",
    "            ),\n",
    "            ToTensorV2()\n",
    "        ],\n",
    "        p=1\n",
    "    )\n",
    "\n",
    "transforms_valid =  Compose([\n",
    "    \n",
    "    Resize(*CFG['img_size']),\n",
    "    Normalize(\n",
    "        mean=[0.485, 0.456, 0.406],\n",
    "        std=[0.229, 0.224, 0.225],\n",
    "    ),\n",
    "    ToTensorV2()\n",
    "    ],\n",
    "    p=1\n",
    ")"
   ]
  },
  {
   "cell_type": "markdown",
   "id": "f27e9981",
   "metadata": {
    "papermill": {
     "duration": 0.037117,
     "end_time": "2022-04-18T18:48:15.796898",
     "exception": false,
     "start_time": "2022-04-18T18:48:15.759781",
     "status": "completed"
    },
    "tags": [],
    "pycharm": {
     "name": "#%% md\n"
    }
   },
   "source": [
    "# DataLoad"
   ]
  },
  {
   "cell_type": "code",
   "execution_count": 10,
   "id": "b851471f",
   "metadata": {
    "execution": {
     "iopub.execute_input": "2022-04-18T18:48:15.880785Z",
     "iopub.status.busy": "2022-04-18T18:48:15.880059Z",
     "iopub.status.idle": "2022-04-18T18:48:15.882271Z",
     "shell.execute_reply": "2022-04-18T18:48:15.882649Z",
     "shell.execute_reply.started": "2022-04-18T10:18:39.698543Z"
    },
    "papermill": {
     "duration": 0.047949,
     "end_time": "2022-04-18T18:48:15.882794",
     "exception": false,
     "start_time": "2022-04-18T18:48:15.834845",
     "status": "completed"
    },
    "tags": [],
    "pycharm": {
     "name": "#%%\n"
    }
   },
   "outputs": [],
   "source": [
    "train_set = Data_generator(base_dir, train, transforms_train)\n",
    "valid_set = Data_generator(base_dir, validation, transforms_valid)\n",
    "test_set = Data_generator(base_dir, test, transforms_valid)"
   ]
  },
  {
   "cell_type": "code",
   "execution_count": 11,
   "id": "e0aab3d3",
   "metadata": {
    "execution": {
     "iopub.execute_input": "2022-04-18T18:48:15.963336Z",
     "iopub.status.busy": "2022-04-18T18:48:15.962681Z",
     "iopub.status.idle": "2022-04-18T18:48:15.967912Z",
     "shell.execute_reply": "2022-04-18T18:48:15.968386Z",
     "shell.execute_reply.started": "2022-04-18T10:23:08.831488Z"
    },
    "papermill": {
     "duration": 0.047594,
     "end_time": "2022-04-18T18:48:15.968515",
     "exception": false,
     "start_time": "2022-04-18T18:48:15.920921",
     "status": "completed"
    },
    "tags": [],
    "pycharm": {
     "name": "#%%\n"
    }
   },
   "outputs": [
    {
     "name": "stderr",
     "output_type": "stream",
     "text": [
      "/opt/conda/lib/python3.7/site-packages/torch/utils/data/dataloader.py:481: UserWarning: This DataLoader will create 4 worker processes in total. Our suggested max number of worker in current system is 2, which is smaller than what this DataLoader is going to create. Please be aware that excessive worker creation might get DataLoader running slow or even freeze, lower the worker number to avoid potential slowness/freeze if necessary.\n",
      "  cpuset_checked))\n"
     ]
    }
   ],
   "source": [
    "train_loader = DataLoader(train_set, batch_size=64, shuffle=True, num_workers=4)\n",
    "valid_loader = DataLoader(valid_set, batch_size=64, shuffle=False, num_workers=4)\n",
    "test_loader = DataLoader(test_set, batch_size=64, shuffle=False, num_workers=4)"
   ]
  },
  {
   "cell_type": "markdown",
   "id": "a28a0034",
   "metadata": {
    "papermill": {
     "duration": 0.038401,
     "end_time": "2022-04-18T18:48:16.045201",
     "exception": false,
     "start_time": "2022-04-18T18:48:16.006800",
     "status": "completed"
    },
    "tags": [],
    "pycharm": {
     "name": "#%% md\n"
    }
   },
   "source": [
    "# Model"
   ]
  },
  {
   "cell_type": "code",
   "execution_count": 12,
   "id": "b46ba9bb",
   "metadata": {
    "execution": {
     "iopub.execute_input": "2022-04-18T18:48:16.130068Z",
     "iopub.status.busy": "2022-04-18T18:48:16.129433Z",
     "iopub.status.idle": "2022-04-18T18:48:17.675242Z",
     "shell.execute_reply": "2022-04-18T18:48:17.675667Z",
     "shell.execute_reply.started": "2022-04-18T10:23:14.166971Z"
    },
    "papermill": {
     "duration": 1.591409,
     "end_time": "2022-04-18T18:48:17.675812",
     "exception": false,
     "start_time": "2022-04-18T18:48:16.084403",
     "status": "completed"
    },
    "tags": [],
    "pycharm": {
     "name": "#%%\n"
    }
   },
   "outputs": [
    {
     "name": "stderr",
     "output_type": "stream",
     "text": [
      "Downloading: \"https://github.com/lukemelas/EfficientNet-PyTorch/releases/download/1.0/efficientnet-b0-355c32eb.pth\" to /root/.cache/torch/hub/checkpoints/efficientnet-b0-355c32eb.pth\n"
     ]
    },
    {
     "data": {
      "application/vnd.jupyter.widget-view+json": {
       "model_id": "b4fda13d5c1c427797c41fcdbbbeff9e",
       "version_major": 2,
       "version_minor": 0
      },
      "text/plain": [
       "  0%|          | 0.00/20.4M [00:00<?, ?B/s]"
      ]
     },
     "metadata": {},
     "output_type": "display_data"
    },
    {
     "name": "stdout",
     "output_type": "stream",
     "text": [
      "Loaded pretrained weights for efficientnet-b0\n"
     ]
    }
   ],
   "source": [
    "model = efficientnet_pytorch.EfficientNet.from_pretrained(\"efficientnet-b0\")\n",
    "model._fc = nn.Linear(in_features=1280, out_features=10, bias=True)\n",
    "\n",
    "criterion = nn.CrossEntropyLoss()\n",
    "optimizer = torch.optim.Adam(model.parameters(), lr=CFG['lr'])\n",
    "scheduler = torch.optim.lr_scheduler.ReduceLROnPlateau(optimizer, 'min')"
   ]
  },
  {
   "cell_type": "markdown",
   "id": "a2f4183b",
   "metadata": {
    "papermill": {
     "duration": 0.038748,
     "end_time": "2022-04-18T18:48:17.753608",
     "exception": false,
     "start_time": "2022-04-18T18:48:17.714860",
     "status": "completed"
    },
    "tags": [],
    "pycharm": {
     "name": "#%% md\n"
    }
   },
   "source": [
    "# Change device"
   ]
  },
  {
   "cell_type": "code",
   "execution_count": 13,
   "id": "59fd31b0",
   "metadata": {
    "execution": {
     "iopub.execute_input": "2022-04-18T18:48:17.837006Z",
     "iopub.status.busy": "2022-04-18T18:48:17.836371Z",
     "iopub.status.idle": "2022-04-18T18:48:17.839008Z",
     "shell.execute_reply": "2022-04-18T18:48:17.839421Z",
     "shell.execute_reply.started": "2022-04-18T10:16:46.218256Z"
    },
    "papermill": {
     "duration": 0.047079,
     "end_time": "2022-04-18T18:48:17.839547",
     "exception": false,
     "start_time": "2022-04-18T18:48:17.792468",
     "status": "completed"
    },
    "tags": [],
    "pycharm": {
     "name": "#%%\n"
    }
   },
   "outputs": [
    {
     "data": {
      "text/plain": [
       "device(type='cuda', index=0)"
      ]
     },
     "execution_count": 13,
     "metadata": {},
     "output_type": "execute_result"
    }
   ],
   "source": [
    "device = torch.device(\"cuda:0\" if torch.cuda.is_available() else \"cpu\")\n",
    "device"
   ]
  },
  {
   "cell_type": "markdown",
   "id": "7b4b5daf",
   "metadata": {
    "papermill": {
     "duration": 0.039224,
     "end_time": "2022-04-18T18:48:17.918648",
     "exception": false,
     "start_time": "2022-04-18T18:48:17.879424",
     "status": "completed"
    },
    "tags": [],
    "pycharm": {
     "name": "#%% md\n"
    }
   },
   "source": [
    "# Class Trainer"
   ]
  },
  {
   "cell_type": "code",
   "execution_count": 14,
   "id": "99447667",
   "metadata": {
    "execution": {
     "iopub.execute_input": "2022-04-18T18:48:18.178593Z",
     "iopub.status.busy": "2022-04-18T18:48:17.999656Z",
     "iopub.status.idle": "2022-04-18T18:48:18.180933Z",
     "shell.execute_reply": "2022-04-18T18:48:18.180457Z",
     "shell.execute_reply.started": "2022-04-18T10:36:24.134783Z"
    },
    "papermill": {
     "duration": 0.22342,
     "end_time": "2022-04-18T18:48:18.181054",
     "exception": false,
     "start_time": "2022-04-18T18:48:17.957634",
     "status": "completed"
    },
    "tags": [],
    "pycharm": {
     "name": "#%%\n"
    }
   },
   "outputs": [],
   "source": [
    "class Trainer:\n",
    "    \n",
    "    def __init__(self, model, criterion, optimizer, scheduler, epochs, device, path_save_model='model.torch', auto_break_n=1000, run=None):\n",
    "        self.model = model\n",
    "        self.criterion = criterion\n",
    "        self.optimizer = optimizer\n",
    "        self.scheduler = scheduler\n",
    "        self.epochs = epochs\n",
    "        self.history_loss = []\n",
    "        self.history_acc = []\n",
    "        self.history_loss_val = []\n",
    "        self.history_acc_val = []\n",
    "        self.best_valid_score = 0\n",
    "        self.device = device\n",
    "        self.path_save_model = path_save_model\n",
    "        self.auto_break_n = auto_break_n\n",
    "        self.run = run\n",
    "        \n",
    "        self.no_improvement_epoch = 0\n",
    "\n",
    "        self.model.to(self.device)\n",
    "\n",
    "    \n",
    "\n",
    "    def fit(self, train_loader, valid_loader):\n",
    "        \n",
    "        for epoch in range(self.epochs):\n",
    "            self.model.train()\n",
    "            loss_score, correct = 0, 0\n",
    "            total = 0\n",
    "            \n",
    "            for batch in tqdm(train_loader):\n",
    "\n",
    "                x_batch, y_batch = batch[\"X\"].to(self.device), batch[\"y\"].to(self.device)\n",
    "                \n",
    "                # .forward()\n",
    "                logits = self.model(x_batch)\n",
    "                loss = self.criterion(logits, y_batch)\n",
    "                                \n",
    "                loss_score += loss.item()\n",
    "                _, predicted = logits.max(1)\n",
    "                total += y_batch.shape[0] \n",
    "                correct += predicted.eq(y_batch).sum().item()\n",
    "\n",
    "                self.optimizer.zero_grad()\n",
    "                loss.backward()\n",
    "                # clip the the gradients to 1.0. It helps in preventing the exploding gradient problem\n",
    "                # it's also improve f1 accuracy slightly\n",
    "                nn.utils.clip_grad_norm_(self.model.parameters(), 1.0)\n",
    "                self.optimizer.step()\n",
    "            \n",
    "            loss_score = loss_score / len(train_loader)\n",
    "            acc_score = correct/total\n",
    "            self.history_loss.append(loss_score)\n",
    "            self.history_acc.append(acc_score)\n",
    "            \n",
    "            print('=' * 100)\n",
    "            print(f\"\\033[1;34m=> {epoch + 1} <= epoch\")\n",
    "            print(f'\\033[1;31m Train Loss: {loss_score} | Accuracy: {acc_score}%')\n",
    "            print('- ' * 50)\n",
    "\n",
    "            if self.run:\n",
    "                self.run['train/epoch/loss'].log(loss_score)\n",
    "                self.run['train/epoch/accuracy'].log(acc_score)\n",
    "\n",
    "            if valid_loader:\n",
    "                loss_score_val, acc_score_val = self.test_score(valid_loader, \"\\033[1;36m Validation\")\n",
    "                \n",
    "                self.history_loss_val.append(loss_score_val)\n",
    "                self.history_acc_val.append(acc_score_val)\n",
    "                \n",
    "                if self.scheduler:\n",
    "                    self.scheduler.step(loss_score_val)\n",
    "                \n",
    "                if self.run:\n",
    "                    self.run['valid/epoch/loss'].log(loss_score_val)\n",
    "                    self.run['valid/epoch/accuracy'].log(acc_score_val)\n",
    "                \n",
    "                if acc_score_val > self.best_valid_score:\n",
    "                    self.no_improvement_epoch = 0\n",
    "                    self.best_valid_score = acc_score_val\n",
    "                    self.save_model(epoch + 1, self.path_save_model)\n",
    "                else:  \n",
    "                    self.no_improvement_epoch += 1\n",
    "                \n",
    "                    \n",
    "                print(f\"no improvement_iter = {self.no_improvement_epoch}\")\n",
    "                if self.no_improvement_epoch == self.auto_break_n:\n",
    "                    print('Auto_break !!!')\n",
    "                    self.run.stop()\n",
    "                    break\n",
    "            \n",
    "            \n",
    "    def test_score(self, valid_loader, info=\"\"):\n",
    "        self.model.eval() # switch for some specific layers/parts\n",
    "        loss_score, correct = 0, 0\n",
    "        total = 0\n",
    "\n",
    "        for batch in tqdm(valid_loader):\n",
    "            \n",
    "            x_batch, y_batch = batch[\"X\"].to(self.device), batch[\"y\"].to(self.device)\n",
    "            \n",
    "            with torch.no_grad():\n",
    "                \n",
    "                logits = self.model(x_batch)\n",
    "                loss = criterion(logits, y_batch)\n",
    "\n",
    "                loss_score += loss.item()\n",
    "                _, predicted = logits.max(1)\n",
    "                total += y_batch.shape[0] \n",
    "                correct += predicted.eq(y_batch).sum().item()\n",
    "                \n",
    "        loss_score = loss_score / len(valid_loader)\n",
    "        acc_score = correct/total\n",
    "        print(f'{info} Loss : {loss_score} | Accuracy: {acc_score}%')\n",
    "        \n",
    "        return loss_score, acc_score\n",
    "    \n",
    "    def save_model(self, n_epoch, save_path):\n",
    "        torch.save(\n",
    "            {\n",
    "                \"model_state_dict\": self.model.state_dict(),\n",
    "                \"optimizer_state_dict\": self.optimizer.state_dict(),\n",
    "                \"best_valid_score\": self.best_valid_score,\n",
    "                \"n_epoch\": n_epoch,\n",
    "            },\n",
    "            save_path,\n",
    "        )\n",
    "        if self.run:\n",
    "            self.run[f'model/saved_model'].upload(save_path)"
   ]
  },
  {
   "cell_type": "code",
   "execution_count": 15,
   "id": "5e543973",
   "metadata": {
    "execution": {
     "iopub.execute_input": "2022-04-18T18:48:18.267969Z",
     "iopub.status.busy": "2022-04-18T18:48:18.267465Z",
     "iopub.status.idle": "2022-04-18T19:36:16.065186Z",
     "shell.execute_reply": "2022-04-18T19:36:16.065829Z"
    },
    "papermill": {
     "duration": 2877.845544,
     "end_time": "2022-04-18T19:36:16.066056",
     "exception": false,
     "start_time": "2022-04-18T18:48:18.220512",
     "status": "completed"
    },
    "tags": [],
    "pycharm": {
     "name": "#%%\n"
    }
   },
   "outputs": [
    {
     "name": "stderr",
     "output_type": "stream",
     "text": [
      "100%|██████████| 296/296 [02:16<00:00,  2.17it/s]\n"
     ]
    },
    {
     "name": "stdout",
     "output_type": "stream",
     "text": [
      "====================================================================================================\n",
      "\u001B[1;34m=> 1 <= epoch\n",
      "\u001B[1;31m Train Loss: 1.4031570191318925 | Accuracy: 0.561005291005291%\n",
      "- - - - - - - - - - - - - - - - - - - - - - - - - - - - - - - - - - - - - - - - - - - - - - - - - - \n"
     ]
    },
    {
     "name": "stderr",
     "output_type": "stream",
     "text": [
      "100%|██████████| 85/85 [00:19<00:00,  4.40it/s]\n"
     ]
    },
    {
     "name": "stdout",
     "output_type": "stream",
     "text": [
      "\u001B[1;36m Validation Loss : 0.639911503476255 | Accuracy: 0.7994444444444444%\n",
      "no improvement_iter = 0\n"
     ]
    },
    {
     "name": "stderr",
     "output_type": "stream",
     "text": [
      "100%|██████████| 296/296 [02:06<00:00,  2.33it/s]\n"
     ]
    },
    {
     "name": "stdout",
     "output_type": "stream",
     "text": [
      "====================================================================================================\n",
      "\u001B[1;34m=> 2 <= epoch\n",
      "\u001B[1;31m Train Loss: 0.7888911499364956 | Accuracy: 0.7262962962962963%\n",
      "- - - - - - - - - - - - - - - - - - - - - - - - - - - - - - - - - - - - - - - - - - - - - - - - - - \n"
     ]
    },
    {
     "name": "stderr",
     "output_type": "stream",
     "text": [
      "100%|██████████| 85/85 [00:14<00:00,  5.76it/s]\n"
     ]
    },
    {
     "name": "stdout",
     "output_type": "stream",
     "text": [
      "\u001B[1;36m Validation Loss : 0.2541017959442209 | Accuracy: 0.917037037037037%\n",
      "no improvement_iter = 0\n"
     ]
    },
    {
     "name": "stderr",
     "output_type": "stream",
     "text": [
      "100%|██████████| 296/296 [02:07<00:00,  2.31it/s]\n"
     ]
    },
    {
     "name": "stdout",
     "output_type": "stream",
     "text": [
      "====================================================================================================\n",
      "\u001B[1;34m=> 3 <= epoch\n",
      "\u001B[1;31m Train Loss: 0.6644049417730924 | Accuracy: 0.7631746031746032%\n",
      "- - - - - - - - - - - - - - - - - - - - - - - - - - - - - - - - - - - - - - - - - - - - - - - - - - \n"
     ]
    },
    {
     "name": "stderr",
     "output_type": "stream",
     "text": [
      "100%|██████████| 85/85 [00:14<00:00,  5.90it/s]\n"
     ]
    },
    {
     "name": "stdout",
     "output_type": "stream",
     "text": [
      "\u001B[1;36m Validation Loss : 0.18109126275076587 | Accuracy: 0.9405555555555556%\n",
      "no improvement_iter = 0\n"
     ]
    },
    {
     "name": "stderr",
     "output_type": "stream",
     "text": [
      "100%|██████████| 296/296 [02:08<00:00,  2.30it/s]\n"
     ]
    },
    {
     "name": "stdout",
     "output_type": "stream",
     "text": [
      "====================================================================================================\n",
      "\u001B[1;34m=> 4 <= epoch\n",
      "\u001B[1;31m Train Loss: 0.599652552624812 | Accuracy: 0.7834920634920635%\n",
      "- - - - - - - - - - - - - - - - - - - - - - - - - - - - - - - - - - - - - - - - - - - - - - - - - - \n"
     ]
    },
    {
     "name": "stderr",
     "output_type": "stream",
     "text": [
      "100%|██████████| 85/85 [00:14<00:00,  5.85it/s]\n"
     ]
    },
    {
     "name": "stdout",
     "output_type": "stream",
     "text": [
      "\u001B[1;36m Validation Loss : 0.15124907614115407 | Accuracy: 0.950925925925926%\n",
      "no improvement_iter = 0\n"
     ]
    },
    {
     "name": "stderr",
     "output_type": "stream",
     "text": [
      "100%|██████████| 296/296 [02:08<00:00,  2.31it/s]\n"
     ]
    },
    {
     "name": "stdout",
     "output_type": "stream",
     "text": [
      "====================================================================================================\n",
      "\u001B[1;34m=> 5 <= epoch\n",
      "\u001B[1;31m Train Loss: 0.5742492055570757 | Accuracy: 0.7914814814814815%\n",
      "- - - - - - - - - - - - - - - - - - - - - - - - - - - - - - - - - - - - - - - - - - - - - - - - - - \n"
     ]
    },
    {
     "name": "stderr",
     "output_type": "stream",
     "text": [
      "100%|██████████| 85/85 [00:15<00:00,  5.47it/s]\n"
     ]
    },
    {
     "name": "stdout",
     "output_type": "stream",
     "text": [
      "\u001B[1;36m Validation Loss : 0.13817307925509179 | Accuracy: 0.952962962962963%\n",
      "no improvement_iter = 0\n"
     ]
    },
    {
     "name": "stderr",
     "output_type": "stream",
     "text": [
      "100%|██████████| 296/296 [02:08<00:00,  2.30it/s]\n"
     ]
    },
    {
     "name": "stdout",
     "output_type": "stream",
     "text": [
      "====================================================================================================\n",
      "\u001B[1;34m=> 6 <= epoch\n",
      "\u001B[1;31m Train Loss: 0.5411651283502579 | Accuracy: 0.8017989417989418%\n",
      "- - - - - - - - - - - - - - - - - - - - - - - - - - - - - - - - - - - - - - - - - - - - - - - - - - \n"
     ]
    },
    {
     "name": "stderr",
     "output_type": "stream",
     "text": [
      "100%|██████████| 85/85 [00:14<00:00,  5.91it/s]\n"
     ]
    },
    {
     "name": "stdout",
     "output_type": "stream",
     "text": [
      "\u001B[1;36m Validation Loss : 0.12703185881871512 | Accuracy: 0.9598148148148148%\n",
      "no improvement_iter = 0\n"
     ]
    },
    {
     "name": "stderr",
     "output_type": "stream",
     "text": [
      "100%|██████████| 296/296 [02:08<00:00,  2.30it/s]\n"
     ]
    },
    {
     "name": "stdout",
     "output_type": "stream",
     "text": [
      "====================================================================================================\n",
      "\u001B[1;34m=> 7 <= epoch\n",
      "\u001B[1;31m Train Loss: 0.5294947533591373 | Accuracy: 0.8064021164021165%\n",
      "- - - - - - - - - - - - - - - - - - - - - - - - - - - - - - - - - - - - - - - - - - - - - - - - - - \n"
     ]
    },
    {
     "name": "stderr",
     "output_type": "stream",
     "text": [
      "100%|██████████| 85/85 [00:13<00:00,  6.09it/s]\n"
     ]
    },
    {
     "name": "stdout",
     "output_type": "stream",
     "text": [
      "\u001B[1;36m Validation Loss : 0.11727768846458811 | Accuracy: 0.96%\n",
      "no improvement_iter = 0\n"
     ]
    },
    {
     "name": "stderr",
     "output_type": "stream",
     "text": [
      "100%|██████████| 296/296 [02:08<00:00,  2.30it/s]\n"
     ]
    },
    {
     "name": "stdout",
     "output_type": "stream",
     "text": [
      "====================================================================================================\n",
      "\u001B[1;34m=> 8 <= epoch\n",
      "\u001B[1;31m Train Loss: 0.519731571746839 | Accuracy: 0.811058201058201%\n",
      "- - - - - - - - - - - - - - - - - - - - - - - - - - - - - - - - - - - - - - - - - - - - - - - - - - \n"
     ]
    },
    {
     "name": "stderr",
     "output_type": "stream",
     "text": [
      "100%|██████████| 85/85 [00:15<00:00,  5.51it/s]\n"
     ]
    },
    {
     "name": "stdout",
     "output_type": "stream",
     "text": [
      "\u001B[1;36m Validation Loss : 0.11758881841430112 | Accuracy: 0.9633333333333334%\n",
      "no improvement_iter = 0\n"
     ]
    },
    {
     "name": "stderr",
     "output_type": "stream",
     "text": [
      "100%|██████████| 296/296 [02:08<00:00,  2.30it/s]\n"
     ]
    },
    {
     "name": "stdout",
     "output_type": "stream",
     "text": [
      "====================================================================================================\n",
      "\u001B[1;34m=> 9 <= epoch\n",
      "\u001B[1;31m Train Loss: 0.5018140493413886 | Accuracy: 0.816984126984127%\n",
      "- - - - - - - - - - - - - - - - - - - - - - - - - - - - - - - - - - - - - - - - - - - - - - - - - - \n"
     ]
    },
    {
     "name": "stderr",
     "output_type": "stream",
     "text": [
      "100%|██████████| 85/85 [00:13<00:00,  6.17it/s]\n"
     ]
    },
    {
     "name": "stdout",
     "output_type": "stream",
     "text": [
      "\u001B[1;36m Validation Loss : 0.12026831267524839 | Accuracy: 0.9631481481481482%\n",
      "no improvement_iter = 1\n"
     ]
    },
    {
     "name": "stderr",
     "output_type": "stream",
     "text": [
      "100%|██████████| 296/296 [02:09<00:00,  2.29it/s]\n"
     ]
    },
    {
     "name": "stdout",
     "output_type": "stream",
     "text": [
      "====================================================================================================\n",
      "\u001B[1;34m=> 10 <= epoch\n",
      "\u001B[1;31m Train Loss: 0.5012175601881903 | Accuracy: 0.8170899470899471%\n",
      "- - - - - - - - - - - - - - - - - - - - - - - - - - - - - - - - - - - - - - - - - - - - - - - - - - \n"
     ]
    },
    {
     "name": "stderr",
     "output_type": "stream",
     "text": [
      "100%|██████████| 85/85 [00:13<00:00,  6.17it/s]\n"
     ]
    },
    {
     "name": "stdout",
     "output_type": "stream",
     "text": [
      "\u001B[1;36m Validation Loss : 0.09450176007470444 | Accuracy: 0.9692592592592593%\n",
      "no improvement_iter = 0\n"
     ]
    },
    {
     "name": "stderr",
     "output_type": "stream",
     "text": [
      "100%|██████████| 296/296 [02:09<00:00,  2.29it/s]\n"
     ]
    },
    {
     "name": "stdout",
     "output_type": "stream",
     "text": [
      "====================================================================================================\n",
      "\u001B[1;34m=> 11 <= epoch\n",
      "\u001B[1;31m Train Loss: 0.48126594853159543 | Accuracy: 0.8246031746031746%\n",
      "- - - - - - - - - - - - - - - - - - - - - - - - - - - - - - - - - - - - - - - - - - - - - - - - - - \n"
     ]
    },
    {
     "name": "stderr",
     "output_type": "stream",
     "text": [
      "100%|██████████| 85/85 [00:14<00:00,  5.86it/s]\n"
     ]
    },
    {
     "name": "stdout",
     "output_type": "stream",
     "text": [
      "\u001B[1;36m Validation Loss : 0.10007785601157915 | Accuracy: 0.9664814814814815%\n",
      "no improvement_iter = 1\n"
     ]
    },
    {
     "name": "stderr",
     "output_type": "stream",
     "text": [
      "100%|██████████| 296/296 [02:08<00:00,  2.30it/s]\n"
     ]
    },
    {
     "name": "stdout",
     "output_type": "stream",
     "text": [
      "====================================================================================================\n",
      "\u001B[1;34m=> 12 <= epoch\n",
      "\u001B[1;31m Train Loss: 0.47275146892344627 | Accuracy: 0.8265608465608466%\n",
      "- - - - - - - - - - - - - - - - - - - - - - - - - - - - - - - - - - - - - - - - - - - - - - - - - - \n"
     ]
    },
    {
     "name": "stderr",
     "output_type": "stream",
     "text": [
      "100%|██████████| 85/85 [00:14<00:00,  5.71it/s]\n"
     ]
    },
    {
     "name": "stdout",
     "output_type": "stream",
     "text": [
      "\u001B[1;36m Validation Loss : 0.09401423951734186 | Accuracy: 0.9681481481481482%\n",
      "no improvement_iter = 2\n"
     ]
    },
    {
     "name": "stderr",
     "output_type": "stream",
     "text": [
      "100%|██████████| 296/296 [02:07<00:00,  2.32it/s]\n"
     ]
    },
    {
     "name": "stdout",
     "output_type": "stream",
     "text": [
      "====================================================================================================\n",
      "\u001B[1;34m=> 13 <= epoch\n",
      "\u001B[1;31m Train Loss: 0.4739962422565834 | Accuracy: 0.8272486772486772%\n",
      "- - - - - - - - - - - - - - - - - - - - - - - - - - - - - - - - - - - - - - - - - - - - - - - - - - \n"
     ]
    },
    {
     "name": "stderr",
     "output_type": "stream",
     "text": [
      "100%|██████████| 85/85 [00:13<00:00,  6.16it/s]\n"
     ]
    },
    {
     "name": "stdout",
     "output_type": "stream",
     "text": [
      "\u001B[1;36m Validation Loss : 0.08865645453196895 | Accuracy: 0.9701851851851852%\n",
      "no improvement_iter = 0\n"
     ]
    },
    {
     "name": "stderr",
     "output_type": "stream",
     "text": [
      "100%|██████████| 296/296 [02:08<00:00,  2.31it/s]\n"
     ]
    },
    {
     "name": "stdout",
     "output_type": "stream",
     "text": [
      "====================================================================================================\n",
      "\u001B[1;34m=> 14 <= epoch\n",
      "\u001B[1;31m Train Loss: 0.4644973648561014 | Accuracy: 0.8308465608465608%\n",
      "- - - - - - - - - - - - - - - - - - - - - - - - - - - - - - - - - - - - - - - - - - - - - - - - - - \n"
     ]
    },
    {
     "name": "stderr",
     "output_type": "stream",
     "text": [
      "100%|██████████| 85/85 [00:14<00:00,  6.00it/s]\n"
     ]
    },
    {
     "name": "stdout",
     "output_type": "stream",
     "text": [
      "\u001B[1;36m Validation Loss : 0.09379140204845873 | Accuracy: 0.9679629629629629%\n",
      "no improvement_iter = 1\n"
     ]
    },
    {
     "name": "stderr",
     "output_type": "stream",
     "text": [
      "100%|██████████| 296/296 [02:08<00:00,  2.30it/s]\n"
     ]
    },
    {
     "name": "stdout",
     "output_type": "stream",
     "text": [
      "====================================================================================================\n",
      "\u001B[1;34m=> 15 <= epoch\n",
      "\u001B[1;31m Train Loss: 0.4604587812681456 | Accuracy: 0.8298941798941799%\n",
      "- - - - - - - - - - - - - - - - - - - - - - - - - - - - - - - - - - - - - - - - - - - - - - - - - - \n"
     ]
    },
    {
     "name": "stderr",
     "output_type": "stream",
     "text": [
      "100%|██████████| 85/85 [00:14<00:00,  5.83it/s]\n"
     ]
    },
    {
     "name": "stdout",
     "output_type": "stream",
     "text": [
      "\u001B[1;36m Validation Loss : 0.08564764337395044 | Accuracy: 0.97%\n",
      "no improvement_iter = 2\n"
     ]
    },
    {
     "name": "stderr",
     "output_type": "stream",
     "text": [
      "100%|██████████| 296/296 [02:09<00:00,  2.29it/s]\n"
     ]
    },
    {
     "name": "stdout",
     "output_type": "stream",
     "text": [
      "====================================================================================================\n",
      "\u001B[1;34m=> 16 <= epoch\n",
      "\u001B[1;31m Train Loss: 0.4587453602234254 | Accuracy: 0.831005291005291%\n",
      "- - - - - - - - - - - - - - - - - - - - - - - - - - - - - - - - - - - - - - - - - - - - - - - - - - \n"
     ]
    },
    {
     "name": "stderr",
     "output_type": "stream",
     "text": [
      "100%|██████████| 85/85 [00:13<00:00,  6.21it/s]\n"
     ]
    },
    {
     "name": "stdout",
     "output_type": "stream",
     "text": [
      "\u001B[1;36m Validation Loss : 0.08671015368445831 | Accuracy: 0.9712962962962963%\n",
      "no improvement_iter = 0\n"
     ]
    },
    {
     "name": "stderr",
     "output_type": "stream",
     "text": [
      "100%|██████████| 296/296 [02:09<00:00,  2.29it/s]\n"
     ]
    },
    {
     "name": "stdout",
     "output_type": "stream",
     "text": [
      "====================================================================================================\n",
      "\u001B[1;34m=> 17 <= epoch\n",
      "\u001B[1;31m Train Loss: 0.4460846328654805 | Accuracy: 0.8344444444444444%\n",
      "- - - - - - - - - - - - - - - - - - - - - - - - - - - - - - - - - - - - - - - - - - - - - - - - - - \n"
     ]
    },
    {
     "name": "stderr",
     "output_type": "stream",
     "text": [
      "100%|██████████| 85/85 [00:14<00:00,  5.83it/s]\n"
     ]
    },
    {
     "name": "stdout",
     "output_type": "stream",
     "text": [
      "\u001B[1;36m Validation Loss : 0.07461165352621774 | Accuracy: 0.975%\n",
      "no improvement_iter = 0\n"
     ]
    },
    {
     "name": "stderr",
     "output_type": "stream",
     "text": [
      "100%|██████████| 296/296 [02:08<00:00,  2.30it/s]\n"
     ]
    },
    {
     "name": "stdout",
     "output_type": "stream",
     "text": [
      "====================================================================================================\n",
      "\u001B[1;34m=> 18 <= epoch\n",
      "\u001B[1;31m Train Loss: 0.45348752969624223 | Accuracy: 0.8347089947089947%\n",
      "- - - - - - - - - - - - - - - - - - - - - - - - - - - - - - - - - - - - - - - - - - - - - - - - - - \n"
     ]
    },
    {
     "name": "stderr",
     "output_type": "stream",
     "text": [
      "100%|██████████| 85/85 [00:15<00:00,  5.55it/s]\n"
     ]
    },
    {
     "name": "stdout",
     "output_type": "stream",
     "text": [
      "\u001B[1;36m Validation Loss : 0.06939189713448286 | Accuracy: 0.977037037037037%\n",
      "no improvement_iter = 0\n"
     ]
    },
    {
     "name": "stderr",
     "output_type": "stream",
     "text": [
      "100%|██████████| 296/296 [02:08<00:00,  2.30it/s]\n"
     ]
    },
    {
     "name": "stdout",
     "output_type": "stream",
     "text": [
      "====================================================================================================\n",
      "\u001B[1;34m=> 19 <= epoch\n",
      "\u001B[1;31m Train Loss: 0.44597391819430365 | Accuracy: 0.8383597883597883%\n",
      "- - - - - - - - - - - - - - - - - - - - - - - - - - - - - - - - - - - - - - - - - - - - - - - - - - \n"
     ]
    },
    {
     "name": "stderr",
     "output_type": "stream",
     "text": [
      "100%|██████████| 85/85 [00:13<00:00,  6.22it/s]\n"
     ]
    },
    {
     "name": "stdout",
     "output_type": "stream",
     "text": [
      "\u001B[1;36m Validation Loss : 0.07191252207849175 | Accuracy: 0.9751851851851852%\n",
      "no improvement_iter = 1\n"
     ]
    },
    {
     "name": "stderr",
     "output_type": "stream",
     "text": [
      "100%|██████████| 296/296 [02:08<00:00,  2.30it/s]\n"
     ]
    },
    {
     "name": "stdout",
     "output_type": "stream",
     "text": [
      "====================================================================================================\n",
      "\u001B[1;34m=> 20 <= epoch\n",
      "\u001B[1;31m Train Loss: 0.44268158168808835 | Accuracy: 0.835026455026455%\n",
      "- - - - - - - - - - - - - - - - - - - - - - - - - - - - - - - - - - - - - - - - - - - - - - - - - - \n"
     ]
    },
    {
     "name": "stderr",
     "output_type": "stream",
     "text": [
      "100%|██████████| 85/85 [00:13<00:00,  6.18it/s]\n"
     ]
    },
    {
     "name": "stdout",
     "output_type": "stream",
     "text": [
      "\u001B[1;36m Validation Loss : 0.06305031679324148 | Accuracy: 0.9787037037037037%\n",
      "no improvement_iter = 0\n"
     ]
    }
   ],
   "source": [
    "mod = Trainer(model, criterion, optimizer, scheduler, CFG['n_epochs'], device, CFG['path_save_model'], CFG['auto_break_n'], run)\n",
    "mod.fit(train_loader, valid_loader)"
   ]
  },
  {
   "cell_type": "markdown",
   "id": "d9f645ca",
   "metadata": {
    "papermill": {
     "duration": 2.455256,
     "end_time": "2022-04-18T19:36:21.311279",
     "exception": false,
     "start_time": "2022-04-18T19:36:18.856023",
     "status": "completed"
    },
    "tags": [],
    "pycharm": {
     "name": "#%% md\n"
    }
   },
   "source": [
    "# Test score"
   ]
  },
  {
   "cell_type": "code",
   "execution_count": 16,
   "id": "dbc8c4fb",
   "metadata": {
    "execution": {
     "iopub.execute_input": "2022-04-18T19:36:26.788007Z",
     "iopub.status.busy": "2022-04-18T19:36:26.785153Z",
     "iopub.status.idle": "2022-04-18T19:36:36.286791Z",
     "shell.execute_reply": "2022-04-18T19:36:36.287244Z"
    },
    "papermill": {
     "duration": 11.954567,
     "end_time": "2022-04-18T19:36:36.287417",
     "exception": false,
     "start_time": "2022-04-18T19:36:24.332850",
     "status": "completed"
    },
    "tags": [],
    "pycharm": {
     "name": "#%%\n"
    }
   },
   "outputs": [
    {
     "name": "stderr",
     "output_type": "stream",
     "text": [
      "100%|██████████| 43/43 [00:09<00:00,  4.53it/s]"
     ]
    },
    {
     "name": "stdout",
     "output_type": "stream",
     "text": [
      "\u001B[0;1m Test Loss : 0.058114730078878615 | Accuracy: 0.9829629629629629%\n"
     ]
    },
    {
     "name": "stderr",
     "output_type": "stream",
     "text": [
      "\n"
     ]
    },
    {
     "data": {
      "text/plain": [
       "(0.058114730078878615, 0.9829629629629629)"
      ]
     },
     "execution_count": 16,
     "metadata": {},
     "output_type": "execute_result"
    }
   ],
   "source": [
    "mod.test_score(test_loader, \"\\033[0;1m Test\")"
   ]
  },
  {
   "cell_type": "markdown",
   "id": "fe447045",
   "metadata": {
    "papermill": {
     "duration": 2.512102,
     "end_time": "2022-04-18T19:36:41.259930",
     "exception": false,
     "start_time": "2022-04-18T19:36:38.747828",
     "status": "completed"
    },
    "tags": [],
    "pycharm": {
     "name": "#%% md\n"
    }
   },
   "source": [
    "# Plot accuracy & loss"
   ]
  },
  {
   "cell_type": "code",
   "execution_count": 17,
   "id": "d8cadcf4",
   "metadata": {
    "execution": {
     "iopub.execute_input": "2022-04-18T19:36:46.470901Z",
     "iopub.status.busy": "2022-04-18T19:36:46.470317Z",
     "iopub.status.idle": "2022-04-18T19:36:46.474357Z",
     "shell.execute_reply": "2022-04-18T19:36:46.473848Z",
     "shell.execute_reply.started": "2022-04-18T09:57:50.442162Z"
    },
    "papermill": {
     "duration": 2.716252,
     "end_time": "2022-04-18T19:36:46.474499",
     "exception": false,
     "start_time": "2022-04-18T19:36:43.758247",
     "status": "completed"
    },
    "tags": [],
    "pycharm": {
     "name": "#%%\n"
    }
   },
   "outputs": [],
   "source": [
    "def plot_history(history, history_val, ylabel=\"\", legend=['Train','Valid'], title='Train vs Valid'):\n",
    "    plt.plot(history,'-o')\n",
    "    plt.plot(history_val,'-o')\n",
    "    \n",
    "    plt.xlabel('epoch')\n",
    "    plt.ylabel(ylabel)\n",
    "    \n",
    "    if ylabel == 'accuracy':\n",
    "        plt.ylim(0, 1)\n",
    "        \n",
    "    plt.xticks(range(len(history)));\n",
    "    \n",
    "    plt.legend(legend)\n",
    "    plt.title('Train vs Valid')\n",
    "\n",
    "    plt.show()"
   ]
  },
  {
   "cell_type": "code",
   "execution_count": 18,
   "id": "8d2d004f",
   "metadata": {
    "execution": {
     "iopub.execute_input": "2022-04-18T19:36:51.929734Z",
     "iopub.status.busy": "2022-04-18T19:36:51.928866Z",
     "iopub.status.idle": "2022-04-18T19:36:52.170365Z",
     "shell.execute_reply": "2022-04-18T19:36:52.169580Z"
    },
    "papermill": {
     "duration": 3.256036,
     "end_time": "2022-04-18T19:36:52.170498",
     "exception": false,
     "start_time": "2022-04-18T19:36:48.914462",
     "status": "completed"
    },
    "tags": [],
    "pycharm": {
     "name": "#%%\n"
    }
   },
   "outputs": [
    {
     "data": {
      "image/png": "[encoded data removed]",
      "text/plain": [
       "<Figure size 432x288 with 1 Axes>"
      ]
     },
     "metadata": {
      "needs_background": "light"
     },
     "output_type": "display_data"
    }
   ],
   "source": [
    "plot_history(np.array(mod.history_acc),\n",
    "             np.array(mod.history_acc_val),\n",
    "            'accuracy')"
   ]
  },
  {
   "cell_type": "code",
   "execution_count": 19,
   "id": "c00808cc",
   "metadata": {
    "execution": {
     "iopub.execute_input": "2022-04-18T19:36:57.369770Z",
     "iopub.status.busy": "2022-04-18T19:36:57.362197Z",
     "iopub.status.idle": "2022-04-18T19:36:57.580920Z",
     "shell.execute_reply": "2022-04-18T19:36:57.581329Z"
    },
    "papermill": {
     "duration": 2.949131,
     "end_time": "2022-04-18T19:36:57.581486",
     "exception": false,
     "start_time": "2022-04-18T19:36:54.632355",
     "status": "completed"
    },
    "tags": [],
    "pycharm": {
     "name": "#%%\n"
    }
   },
   "outputs": [
    {
     "data": {
      "image/png": "[encoded data removed]",
      "text/plain": [
       "<Figure size 432x288 with 1 Axes>"
      ]
     },
     "metadata": {
      "needs_background": "light"
     },
     "output_type": "display_data"
    }
   ],
   "source": [
    "plot_history(np.array(mod.history_loss),\n",
    "             np.array(mod.history_loss_val),\n",
    "            'loss')"
   ]
  }
 ],
 "metadata": {
  "kernelspec": {
   "display_name": "Python 3",
   "language": "python",
   "name": "python3"
  },
  "language_info": {
   "codemirror_mode": {
    "name": "ipython",
    "version": 3
   },
   "file_extension": ".py",
   "mimetype": "text/x-python",
   "name": "python",
   "nbconvert_exporter": "python",
   "pygments_lexer": "ipython3",
   "version": "3.7.12"
  },
  "papermill": {
   "default_parameters": {},
   "duration": 2966.0718,
   "end_time": "2022-04-18T19:37:01.918539",
   "environment_variables": {},
   "exception": null,
   "input_path": "__notebook__.ipynb",
   "output_path": "__notebook__.ipynb",
   "parameters": {},
   "start_time": "2022-04-18T18:47:35.846739",
   "version": "2.3.3"
  },
  "widgets": {
   "application/vnd.jupyter.widget-state+json": {
    "state": {
     "2c8f7e3d4d6a45e5bad3c9af760d084c": {
      "model_module": "@jupyter-widgets/controls",
      "model_module_version": "1.5.0",
      "model_name": "DescriptionStyleModel",
      "state": {
       "_model_module": "@jupyter-widgets/controls",
       "_model_module_version": "1.5.0",
       "_model_name": "DescriptionStyleModel",
       "_view_count": null,
       "_view_module": "@jupyter-widgets/base",
       "_view_module_version": "1.2.0",
       "_view_name": "StyleView",
       "description_width": ""
      }
     },
     "3010d3ce9ec5421394169acc2759eaca": {
      "model_module": "@jupyter-widgets/controls",
      "model_module_version": "1.5.0",
      "model_name": "HTMLModel",
      "state": {
       "_dom_classes": [],
       "_model_module": "@jupyter-widgets/controls",
       "_model_module_version": "1.5.0",
       "_model_name": "HTMLModel",
       "_view_count": null,
       "_view_module": "@jupyter-widgets/controls",
       "_view_module_version": "1.5.0",
       "_view_name": "HTMLView",
       "description": "",
       "description_tooltip": null,
       "layout": "IPY_MODEL_a5ae9f7e8fc14d7ca14be9f5ef21d284",
       "placeholder": "​",
       "style": "IPY_MODEL_2c8f7e3d4d6a45e5bad3c9af760d084c",
       "value": " 20.4M/20.4M [00:00&lt;00:00, 32.7MB/s]"
      }
     },
     "650a9e0f2708493589611d4e2dba0e25": {
      "model_module": "@jupyter-widgets/controls",
      "model_module_version": "1.5.0",
      "model_name": "DescriptionStyleModel",
      "state": {
       "_model_module": "@jupyter-widgets/controls",
       "_model_module_version": "1.5.0",
       "_model_name": "DescriptionStyleModel",
       "_view_count": null,
       "_view_module": "@jupyter-widgets/base",
       "_view_module_version": "1.2.0",
       "_view_name": "StyleView",
       "description_width": ""
      }
     },
     "7c967ae420d54fd9b792de6b65219661": {
      "model_module": "@jupyter-widgets/base",
      "model_module_version": "1.2.0",
      "model_name": "LayoutModel",
      "state": {
       "_model_module": "@jupyter-widgets/base",
       "_model_module_version": "1.2.0",
       "_model_name": "LayoutModel",
       "_view_count": null,
       "_view_module": "@jupyter-widgets/base",
       "_view_module_version": "1.2.0",
       "_view_name": "LayoutView",
       "align_content": null,
       "align_items": null,
       "align_self": null,
       "border": null,
       "bottom": null,
       "display": null,
       "flex": null,
       "flex_flow": null,
       "grid_area": null,
       "grid_auto_columns": null,
       "grid_auto_flow": null,
       "grid_auto_rows": null,
       "grid_column": null,
       "grid_gap": null,
       "grid_row": null,
       "grid_template_areas": null,
       "grid_template_columns": null,
       "grid_template_rows": null,
       "height": null,
       "justify_content": null,
       "justify_items": null,
       "left": null,
       "margin": null,
       "max_height": null,
       "max_width": null,
       "min_height": null,
       "min_width": null,
       "object_fit": null,
       "object_position": null,
       "order": null,
       "overflow": null,
       "overflow_x": null,
       "overflow_y": null,
       "padding": null,
       "right": null,
       "top": null,
       "visibility": null,
       "width": null
      }
     },
     "9e4002578635434a9b3de5562eda466d": {
      "model_module": "@jupyter-widgets/controls",
      "model_module_version": "1.5.0",
      "model_name": "HTMLModel",
      "state": {
       "_dom_classes": [],
       "_model_module": "@jupyter-widgets/controls",
       "_model_module_version": "1.5.0",
       "_model_name": "HTMLModel",
       "_view_count": null,
       "_view_module": "@jupyter-widgets/controls",
       "_view_module_version": "1.5.0",
       "_view_name": "HTMLView",
       "description": "",
       "description_tooltip": null,
       "layout": "IPY_MODEL_a7bb824054c7418cbcefa1203f3e0edc",
       "placeholder": "​",
       "style": "IPY_MODEL_650a9e0f2708493589611d4e2dba0e25",
       "value": "100%"
      }
     },
     "a5ae9f7e8fc14d7ca14be9f5ef21d284": {
      "model_module": "@jupyter-widgets/base",
      "model_module_version": "1.2.0",
      "model_name": "LayoutModel",
      "state": {
       "_model_module": "@jupyter-widgets/base",
       "_model_module_version": "1.2.0",
       "_model_name": "LayoutModel",
       "_view_count": null,
       "_view_module": "@jupyter-widgets/base",
       "_view_module_version": "1.2.0",
       "_view_name": "LayoutView",
       "align_content": null,
       "align_items": null,
       "align_self": null,
       "border": null,
       "bottom": null,
       "display": null,
       "flex": null,
       "flex_flow": null,
       "grid_area": null,
       "grid_auto_columns": null,
       "grid_auto_flow": null,
       "grid_auto_rows": null,
       "grid_column": null,
       "grid_gap": null,
       "grid_row": null,
       "grid_template_areas": null,
       "grid_template_columns": null,
       "grid_template_rows": null,
       "height": null,
       "justify_content": null,
       "justify_items": null,
       "left": null,
       "margin": null,
       "max_height": null,
       "max_width": null,
       "min_height": null,
       "min_width": null,
       "object_fit": null,
       "object_position": null,
       "order": null,
       "overflow": null,
       "overflow_x": null,
       "overflow_y": null,
       "padding": null,
       "right": null,
       "top": null,
       "visibility": null,
       "width": null
      }
     },
     "a7bb824054c7418cbcefa1203f3e0edc": {
      "model_module": "@jupyter-widgets/base",
      "model_module_version": "1.2.0",
      "model_name": "LayoutModel",
      "state": {
       "_model_module": "@jupyter-widgets/base",
       "_model_module_version": "1.2.0",
       "_model_name": "LayoutModel",
       "_view_count": null,
       "_view_module": "@jupyter-widgets/base",
       "_view_module_version": "1.2.0",
       "_view_name": "LayoutView",
       "align_content": null,
       "align_items": null,
       "align_self": null,
       "border": null,
       "bottom": null,
       "display": null,
       "flex": null,
       "flex_flow": null,
       "grid_area": null,
       "grid_auto_columns": null,
       "grid_auto_flow": null,
       "grid_auto_rows": null,
       "grid_column": null,
       "grid_gap": null,
       "grid_row": null,
       "grid_template_areas": null,
       "grid_template_columns": null,
       "grid_template_rows": null,
       "height": null,
       "justify_content": null,
       "justify_items": null,
       "left": null,
       "margin": null,
       "max_height": null,
       "max_width": null,
       "min_height": null,
       "min_width": null,
       "object_fit": null,
       "object_position": null,
       "order": null,
       "overflow": null,
       "overflow_x": null,
       "overflow_y": null,
       "padding": null,
       "right": null,
       "top": null,
       "visibility": null,
       "width": null
      }
     },
     "b4fda13d5c1c427797c41fcdbbbeff9e": {
      "model_module": "@jupyter-widgets/controls",
      "model_module_version": "1.5.0",
      "model_name": "HBoxModel",
      "state": {
       "_dom_classes": [],
       "_model_module": "@jupyter-widgets/controls",
       "_model_module_version": "1.5.0",
       "_model_name": "HBoxModel",
       "_view_count": null,
       "_view_module": "@jupyter-widgets/controls",
       "_view_module_version": "1.5.0",
       "_view_name": "HBoxView",
       "box_style": "",
       "children": [
        "IPY_MODEL_9e4002578635434a9b3de5562eda466d",
        "IPY_MODEL_ca567716899c4ab585ff46bfd01c2230",
        "IPY_MODEL_3010d3ce9ec5421394169acc2759eaca"
       ],
       "layout": "IPY_MODEL_fe199a5957d945e7b8f92833833953cb"
      }
     },
     "ca567716899c4ab585ff46bfd01c2230": {
      "model_module": "@jupyter-widgets/controls",
      "model_module_version": "1.5.0",
      "model_name": "FloatProgressModel",
      "state": {
       "_dom_classes": [],
       "_model_module": "@jupyter-widgets/controls",
       "_model_module_version": "1.5.0",
       "_model_name": "FloatProgressModel",
       "_view_count": null,
       "_view_module": "@jupyter-widgets/controls",
       "_view_module_version": "1.5.0",
       "_view_name": "ProgressView",
       "bar_style": "success",
       "description": "",
       "description_tooltip": null,
       "layout": "IPY_MODEL_7c967ae420d54fd9b792de6b65219661",
       "max": 2.1388428E7,
       "min": 0.0,
       "orientation": "horizontal",
       "style": "IPY_MODEL_fe388159b85a4dca8cf26759450a7e75",
       "value": 2.1388428E7
      }
     },
     "fe199a5957d945e7b8f92833833953cb": {
      "model_module": "@jupyter-widgets/base",
      "model_module_version": "1.2.0",
      "model_name": "LayoutModel",
      "state": {
       "_model_module": "@jupyter-widgets/base",
       "_model_module_version": "1.2.0",
       "_model_name": "LayoutModel",
       "_view_count": null,
       "_view_module": "@jupyter-widgets/base",
       "_view_module_version": "1.2.0",
       "_view_name": "LayoutView",
       "align_content": null,
       "align_items": null,
       "align_self": null,
       "border": null,
       "bottom": null,
       "display": null,
       "flex": null,
       "flex_flow": null,
       "grid_area": null,
       "grid_auto_columns": null,
       "grid_auto_flow": null,
       "grid_auto_rows": null,
       "grid_column": null,
       "grid_gap": null,
       "grid_row": null,
       "grid_template_areas": null,
       "grid_template_columns": null,
       "grid_template_rows": null,
       "height": null,
       "justify_content": null,
       "justify_items": null,
       "left": null,
       "margin": null,
       "max_height": null,
       "max_width": null,
       "min_height": null,
       "min_width": null,
       "object_fit": null,
       "object_position": null,
       "order": null,
       "overflow": null,
       "overflow_x": null,
       "overflow_y": null,
       "padding": null,
       "right": null,
       "top": null,
       "visibility": null,
       "width": null
      }
     },
     "fe388159b85a4dca8cf26759450a7e75": {
      "model_module": "@jupyter-widgets/controls",
      "model_module_version": "1.5.0",
      "model_name": "ProgressStyleModel",
      "state": {
       "_model_module": "@jupyter-widgets/controls",
       "_model_module_version": "1.5.0",
       "_model_name": "ProgressStyleModel",
       "_view_count": null,
       "_view_module": "@jupyter-widgets/base",
       "_view_module_version": "1.2.0",
       "_view_name": "StyleView",
       "bar_color": null,
       "description_width": ""
      }
     }
    },
    "version_major": 2,
    "version_minor": 0
   }
  }
 },
 "nbformat": 4,
 "nbformat_minor": 5
}